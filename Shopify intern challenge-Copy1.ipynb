{
 "cells": [
  {
   "cell_type": "markdown",
   "id": "ad96d45f",
   "metadata": {},
   "source": [
    "# Ayomide Dada's Entry for The Shopify Intern Challenge"
   ]
  },
  {
   "cell_type": "code",
   "execution_count": 1,
   "id": "6f283465",
   "metadata": {},
   "outputs": [],
   "source": [
    "import pandas as pd\n",
    "import numpy as np"
   ]
  },
  {
   "cell_type": "code",
   "execution_count": 2,
   "id": "7eb7ca28",
   "metadata": {},
   "outputs": [],
   "source": [
    "# Loading in the shopify dataset provided as data\n",
    "data = pd.read_csv(\"Shopify data.csv\", index_col=\"order_id\")"
   ]
  },
  {
   "cell_type": "code",
   "execution_count": 3,
   "id": "27a9df77",
   "metadata": {},
   "outputs": [
    {
     "data": {
      "text/html": [
       "<div>\n",
       "<style scoped>\n",
       "    .dataframe tbody tr th:only-of-type {\n",
       "        vertical-align: middle;\n",
       "    }\n",
       "\n",
       "    .dataframe tbody tr th {\n",
       "        vertical-align: top;\n",
       "    }\n",
       "\n",
       "    .dataframe thead th {\n",
       "        text-align: right;\n",
       "    }\n",
       "</style>\n",
       "<table border=\"1\" class=\"dataframe\">\n",
       "  <thead>\n",
       "    <tr style=\"text-align: right;\">\n",
       "      <th></th>\n",
       "      <th>shop_id</th>\n",
       "      <th>user_id</th>\n",
       "      <th>order_amount</th>\n",
       "      <th>total_items</th>\n",
       "      <th>payment_method</th>\n",
       "      <th>created_at</th>\n",
       "    </tr>\n",
       "    <tr>\n",
       "      <th>order_id</th>\n",
       "      <th></th>\n",
       "      <th></th>\n",
       "      <th></th>\n",
       "      <th></th>\n",
       "      <th></th>\n",
       "      <th></th>\n",
       "    </tr>\n",
       "  </thead>\n",
       "  <tbody>\n",
       "    <tr>\n",
       "      <th>1</th>\n",
       "      <td>53</td>\n",
       "      <td>746</td>\n",
       "      <td>224</td>\n",
       "      <td>2</td>\n",
       "      <td>cash</td>\n",
       "      <td>2017-03-13 12:36:56</td>\n",
       "    </tr>\n",
       "    <tr>\n",
       "      <th>2</th>\n",
       "      <td>92</td>\n",
       "      <td>925</td>\n",
       "      <td>90</td>\n",
       "      <td>1</td>\n",
       "      <td>cash</td>\n",
       "      <td>2017-03-03 17:38:52</td>\n",
       "    </tr>\n",
       "    <tr>\n",
       "      <th>3</th>\n",
       "      <td>44</td>\n",
       "      <td>861</td>\n",
       "      <td>144</td>\n",
       "      <td>1</td>\n",
       "      <td>cash</td>\n",
       "      <td>2017-03-14 4:23:56</td>\n",
       "    </tr>\n",
       "    <tr>\n",
       "      <th>4</th>\n",
       "      <td>18</td>\n",
       "      <td>935</td>\n",
       "      <td>156</td>\n",
       "      <td>1</td>\n",
       "      <td>credit_card</td>\n",
       "      <td>2017-03-26 12:43:37</td>\n",
       "    </tr>\n",
       "    <tr>\n",
       "      <th>5</th>\n",
       "      <td>18</td>\n",
       "      <td>883</td>\n",
       "      <td>156</td>\n",
       "      <td>1</td>\n",
       "      <td>credit_card</td>\n",
       "      <td>2017-03-01 4:35:11</td>\n",
       "    </tr>\n",
       "  </tbody>\n",
       "</table>\n",
       "</div>"
      ],
      "text/plain": [
       "          shop_id  user_id  order_amount  total_items payment_method  \\\n",
       "order_id                                                               \n",
       "1              53      746           224            2           cash   \n",
       "2              92      925            90            1           cash   \n",
       "3              44      861           144            1           cash   \n",
       "4              18      935           156            1    credit_card   \n",
       "5              18      883           156            1    credit_card   \n",
       "\n",
       "                   created_at  \n",
       "order_id                       \n",
       "1         2017-03-13 12:36:56  \n",
       "2         2017-03-03 17:38:52  \n",
       "3          2017-03-14 4:23:56  \n",
       "4         2017-03-26 12:43:37  \n",
       "5          2017-03-01 4:35:11  "
      ]
     },
     "execution_count": 3,
     "metadata": {},
     "output_type": "execute_result"
    }
   ],
   "source": [
    "data.head()"
   ]
  },
  {
   "cell_type": "code",
   "execution_count": null,
   "id": "280d4e8e",
   "metadata": {},
   "outputs": [],
   "source": []
  },
  {
   "cell_type": "code",
   "execution_count": 4,
   "id": "c8b9293f",
   "metadata": {},
   "outputs": [],
   "source": [
    "#Making a copy of the data in order not to distort the original data\n",
    "df = data.copy()"
   ]
  },
  {
   "cell_type": "code",
   "execution_count": 5,
   "id": "e825e050",
   "metadata": {},
   "outputs": [],
   "source": [
    "#Sorting by date to be sure the data is of only one month\n",
    "df[\"created_at\"] = pd.to_datetime(df[\"created_at\"])"
   ]
  },
  {
   "cell_type": "code",
   "execution_count": 6,
   "id": "16ae28f7",
   "metadata": {},
   "outputs": [
    {
     "data": {
      "text/plain": [
       "order_id\n",
       "1863   2017-03-01 00:08:09\n",
       "1742   2017-03-01 00:10:19\n",
       "3229   2017-03-01 00:14:12\n",
       "1268   2017-03-01 00:19:31\n",
       "2690   2017-03-01 00:22:25\n",
       "               ...        \n",
       "2631   2017-03-30 23:12:13\n",
       "1686   2017-03-30 23:16:10\n",
       "1475   2017-03-30 23:26:54\n",
       "318    2017-03-30 23:41:34\n",
       "2458   2017-03-30 23:55:35\n",
       "Name: created_at, Length: 5000, dtype: datetime64[ns]"
      ]
     },
     "execution_count": 6,
     "metadata": {},
     "output_type": "execute_result"
    }
   ],
   "source": [
    "df[\"created_at\"].sort_values()"
   ]
  },
  {
   "cell_type": "code",
   "execution_count": 7,
   "id": "1f01aa38",
   "metadata": {},
   "outputs": [
    {
     "data": {
      "text/plain": [
       "3145.128"
      ]
     },
     "execution_count": 7,
     "metadata": {},
     "output_type": "execute_result"
    }
   ],
   "source": [
    "#The average order value calculated in the question was computed using only the order amounts, without considering the total items sold\n",
    "AOV = df[\"order_amount\"].mean()\n",
    "AOV"
   ]
  },
  {
   "cell_type": "code",
   "execution_count": 8,
   "id": "a34ef599",
   "metadata": {},
   "outputs": [],
   "source": [
    "# To get the (AOUV) average unit order value (which would take into consideratin every unit of item sold)\n",
    "df[\"unit_order_value\"] = df[\"order_amount\"]/df[\"total_items\"]\n"
   ]
  },
  {
   "cell_type": "code",
   "execution_count": 9,
   "id": "5d3fab83",
   "metadata": {},
   "outputs": [],
   "source": [
    "AUOV = df[\"unit_order_value\"].mean()"
   ]
  },
  {
   "cell_type": "code",
   "execution_count": 10,
   "id": "9463092a",
   "metadata": {},
   "outputs": [
    {
     "data": {
      "text/plain": [
       "387.7428"
      ]
     },
     "execution_count": 10,
     "metadata": {},
     "output_type": "execute_result"
    }
   ],
   "source": [
    "AUOV"
   ]
  },
  {
   "cell_type": "code",
   "execution_count": 11,
   "id": "b9d9582d",
   "metadata": {},
   "outputs": [],
   "source": [
    "# Taking out both outlier stores and calculating a new AUOV\n",
    "df.drop(df.index[df[\"shop_id\"] == 42], inplace = True)\n",
    "df.drop(df.index[df[\"shop_id\"] == 78], inplace = True)"
   ]
  },
  {
   "cell_type": "code",
   "execution_count": 12,
   "id": "bd818e09",
   "metadata": {},
   "outputs": [],
   "source": [
    "new_AUOV = df[\"unit_order_value\"].mean()"
   ]
  },
  {
   "cell_type": "code",
   "execution_count": 13,
   "id": "30a53bd9",
   "metadata": {},
   "outputs": [
    {
     "data": {
      "text/plain": [
       "150.40016316540894"
      ]
     },
     "execution_count": 13,
     "metadata": {},
     "output_type": "execute_result"
    }
   ],
   "source": [
    "new_AUOV "
   ]
  },
  {
   "cell_type": "code",
   "execution_count": null,
   "id": "fcdbd03d",
   "metadata": {},
   "outputs": [],
   "source": []
  },
  {
   "cell_type": "code",
   "execution_count": null,
   "id": "45a537b8",
   "metadata": {},
   "outputs": [],
   "source": []
  }
 ],
 "metadata": {
  "kernelspec": {
   "display_name": "Python 3 (ipykernel)",
   "language": "python",
   "name": "python3"
  },
  "language_info": {
   "codemirror_mode": {
    "name": "ipython",
    "version": 3
   },
   "file_extension": ".py",
   "mimetype": "text/x-python",
   "name": "python",
   "nbconvert_exporter": "python",
   "pygments_lexer": "ipython3",
   "version": "3.9.12"
  }
 },
 "nbformat": 4,
 "nbformat_minor": 5
}
